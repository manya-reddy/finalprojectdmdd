{
 "cells": [
  {
   "cell_type": "code",
   "execution_count": 1,
   "id": "c0a47279",
   "metadata": {},
   "outputs": [],
   "source": [
    "import requests\n",
    "page = requests.get(\"https://www.worldometers.info/coronavirus\")"
   ]
  },
  {
   "cell_type": "code",
   "execution_count": 2,
   "id": "b76e8ebb",
   "metadata": {},
   "outputs": [],
   "source": [
    "from bs4 import BeautifulSoup\n",
    "soup = BeautifulSoup(page.content, 'lxml')\n",
    "# print(soup.prettify())"
   ]
  },
  {
   "cell_type": "code",
   "execution_count": 3,
   "id": "0abb24f9",
   "metadata": {},
   "outputs": [],
   "source": [
    "table = soup.find('table', attrs={'id': 'main_table_countries_today'})\n",
    "rows = table.find_all(\"tr\", attrs={\"style\": \"\"})"
   ]
  },
  {
   "cell_type": "code",
   "execution_count": 4,
   "id": "8518fd72",
   "metadata": {},
   "outputs": [],
   "source": [
    "data = []\n",
    "for i,item in enumerate(rows):\n",
    "    \n",
    "    if i == 0:\n",
    "        \n",
    "        data.append(item.text.strip().split(\"\\n\")[:13])\n",
    "        \n",
    "    else:\n",
    "        data.append(item.text.strip().split(\"\\n\")[:12])"
   ]
  },
  {
   "cell_type": "code",
   "execution_count": 8,
   "id": "d757b6ec",
   "metadata": {},
   "outputs": [
    {
     "name": "stdout",
     "output_type": "stream",
     "text": [
      "          #      Country,Other   TotalCases   NewCases  \\\n",
      "0     World        657,473,329      +60,990  6,671,196   \n",
      "1         1                USA  101,752,474              \n",
      "2         2              India   44,677,054              \n",
      "3         3             France   38,854,428              \n",
      "4         4            Germany   36,980,882              \n",
      "..      ...                ...          ...        ...   \n",
      "218     223              Macao        1,363              \n",
      "219     224  Wallis and Futuna          761              \n",
      "220     226               Niue          226              \n",
      "221     230              China      378,458     +2,097   \n",
      "222  Total:        657,473,329      +60,990  6,671,196   \n",
      "\n",
      "                                   TotalDeaths    NewDeaths TotalRecovered  \\\n",
      "0                                          +42  631,311,089        +87,704   \n",
      "1    1,112,965                                                  98,825,188   \n",
      "2      530,667                                                  44,141,501   \n",
      "3      160,359                                                  37,516,940   \n",
      "4      159,884                                                  36,229,900   \n",
      "..                                         ...          ...            ...   \n",
      "218          9                                                         854   \n",
      "219          7                                                         438   \n",
      "220                                                                    187   \n",
      "221      5,235                                                     338,541   \n",
      "222                                        +42  631,311,089        +87,704   \n",
      "\n",
      "    NewRecovered ActiveCases Serious,Critical Tot Cases/1M pop Deaths/1M pop  \n",
      "0     19,491,044      38,134           84,348            855.9                \n",
      "1                  1,814,321            4,179          303,915         3,324  \n",
      "2                      4,886              698           31,762           377  \n",
      "3                  1,177,129              869          592,433         2,445  \n",
      "4                    591,098            1,406          440,860         1,906  \n",
      "..           ...         ...              ...              ...           ...  \n",
      "218                      500                             2,042            13  \n",
      "219                      316                            69,295           637  \n",
      "220                       39                           139,334                \n",
      "221       +1,773      34,682              242              261             4  \n",
      "222   19,491,044      38,134         84,347.7            855.9                \n",
      "\n",
      "[223 rows x 12 columns]\n"
     ]
    }
   ],
   "source": [
    "import warnings\n",
    "warnings.simplefilter(action='ignore', category=FutureWarning)\n",
    "\n",
    "import pandas as pd\n",
    "import dask.dataframe as dd\n",
    "\n",
    "dt = pd.DataFrame(data)\n",
    "dt = pd.DataFrame(data[1:], columns=data[0][:12]) #Formatting the header\n",
    "df = dd.from_pandas(dt,npartitions=1)\n",
    "\n",
    "print(dt)\n",
    "# remove 1st row\n",
    "# pick columns you need"
   ]
  },
  {
   "cell_type": "code",
   "execution_count": 6,
   "id": "7ae3dbbe",
   "metadata": {},
   "outputs": [],
   "source": [
    "dt.to_csv('../csv/covidstatus.csv')"
   ]
  },
  {
   "cell_type": "code",
   "execution_count": null,
   "id": "79809c26",
   "metadata": {},
   "outputs": [],
   "source": []
  }
 ],
 "metadata": {
  "kernelspec": {
   "display_name": "Python 3 (ipykernel)",
   "language": "python",
   "name": "python3"
  },
  "language_info": {
   "codemirror_mode": {
    "name": "ipython",
    "version": 3
   },
   "file_extension": ".py",
   "mimetype": "text/x-python",
   "name": "python",
   "nbconvert_exporter": "python",
   "pygments_lexer": "ipython3",
   "version": "3.9.13"
  }
 },
 "nbformat": 4,
 "nbformat_minor": 5
}
