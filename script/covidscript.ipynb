{
 "cells": [
  {
   "cell_type": "code",
   "execution_count": 22,
   "id": "c0a47279",
   "metadata": {},
   "outputs": [],
   "source": [
    "import requests\n",
    "page = requests.get(\"https://www.worldometers.info/coronavirus\")"
   ]
  },
  {
   "cell_type": "code",
   "execution_count": 23,
   "id": "b76e8ebb",
   "metadata": {},
   "outputs": [],
   "source": [
    "from bs4 import BeautifulSoup\n",
    "soup = BeautifulSoup(page.content, 'lxml')\n",
    "# print(soup.prettify())"
   ]
  },
  {
   "cell_type": "code",
   "execution_count": 24,
   "id": "0abb24f9",
   "metadata": {},
   "outputs": [],
   "source": [
    "table = soup.find('table', attrs={'id': 'main_table_countries_today'})\n",
    "rows = table.find_all(\"tr\", attrs={\"style\": \"\"})"
   ]
  },
  {
   "cell_type": "code",
   "execution_count": 26,
   "id": "8518fd72",
   "metadata": {},
   "outputs": [],
   "source": [
    "data = []\n",
    "for i,item in enumerate(rows):\n",
    "    \n",
    "    if i == 0:\n",
    "        \n",
    "        data.append(item.text.strip().split(\"\\n\")[:13])\n",
    "        \n",
    "    else:\n",
    "        data.append(item.text.strip().split(\"\\n\")[:12])"
   ]
  },
  {
   "cell_type": "code",
   "execution_count": 28,
   "id": "d757b6ec",
   "metadata": {},
   "outputs": [],
   "source": [
    "import warnings\n",
    "warnings.simplefilter(action='ignore', category=FutureWarning)\n",
    "\n",
    "import pandas as pd\n",
    "import dask.dataframe as dd\n",
    "\n",
    "dt = pd.DataFrame(data)\n",
    "dt = pd.DataFrame(data[1:], columns=data[0][:12]) #Formatting the header\n",
    "df = dd.from_pandas(dt,npartitions=1)\n"
   ]
  },
  {
   "cell_type": "code",
   "execution_count": 29,
   "id": "7ae3dbbe",
   "metadata": {},
   "outputs": [],
   "source": [
    "dt.to_csv('./covidnew.csv')"
   ]
  },
  {
   "cell_type": "code",
   "execution_count": null,
   "id": "79809c26",
   "metadata": {},
   "outputs": [],
   "source": []
  }
 ],
 "metadata": {
  "kernelspec": {
   "display_name": "Python 3 (ipykernel)",
   "language": "python",
   "name": "python3"
  },
  "language_info": {
   "codemirror_mode": {
    "name": "ipython",
    "version": 3
   },
   "file_extension": ".py",
   "mimetype": "text/x-python",
   "name": "python",
   "nbconvert_exporter": "python",
   "pygments_lexer": "ipython3",
   "version": "3.9.13"
  }
 },
 "nbformat": 4,
 "nbformat_minor": 5
}
