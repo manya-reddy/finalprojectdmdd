{
 "cells": [
  {
   "cell_type": "code",
   "execution_count": 5,
   "id": "0ee4c8a9",
   "metadata": {},
   "outputs": [],
   "source": [
    "import mysql.connector as msql\n",
    "from mysql.connector import Error\n",
    "try:\n",
    "    conn = msql.connect(host='localhost', user='root',  \n",
    "                        password='Naruto@99',database='assignment_3')\n",
    "    if conn.is_connected():\n",
    "        cursor = conn.cursor()\n",
    "except Error as e:\n",
    "    print(\"Error while connecting to MySQL\", e)"
   ]
  },
  {
   "cell_type": "code",
   "execution_count": 6,
   "id": "1dcc26b4",
   "metadata": {},
   "outputs": [],
   "source": [
    "import pandas as pd\n",
    "gdp = pd.read_csv(\"/Users/manyareddy/Desktop/all/csv/gdpfinal.csv\", header=None, skiprows=1)\n",
    "for i,row in gdp.iterrows():\n",
    "    if (len(row[0]))<4:\n",
    "        sql = \"INSERT IGNORE INTO assignment_3.gdp VALUES (%s,%s,%s)\"\n",
    "        cursor.execute(sql, tuple(row))\n",
    "        conn.commit()"
   ]
  },
  {
   "cell_type": "code",
   "execution_count": 11,
   "id": "78b6c286",
   "metadata": {},
   "outputs": [],
   "source": [
    "import pandas as pd\n",
    "alc = pd.read_csv(\"/Users/manyareddy/Desktop/all/csv/alchappinessfinal.csv\", header=None, skiprows=1)\n",
    "# alc\n",
    "for i,row in alc.iterrows():\n",
    "    if (len(row[0]))<5:\n",
    "        sql = \"INSERT IGNORE INTO assignment_3.alchappiness VALUES (%s,%s,%s,%s)\"\n",
    "        cursor.execute(sql, tuple(row))\n",
    "        conn.commit()"
   ]
  },
  {
   "cell_type": "code",
   "execution_count": 13,
   "id": "40777456",
   "metadata": {},
   "outputs": [],
   "source": [
    "import pandas as pd\n",
    "crime = pd.read_csv(\"/Users/manyareddy/Desktop/all/csv/crimefinal.csv\", header=None, skiprows=1)\n",
    "for i,row in crime.iterrows():\n",
    "    if (len(row[0]))<5:\n",
    "        sql = \"INSERT IGNORE INTO assignment_3.crime VALUES (%s,%s,%s)\"\n",
    "        cursor.execute(sql, tuple(row))\n",
    "        conn.commit()"
   ]
  },
  {
   "cell_type": "code",
   "execution_count": 15,
   "id": "a6ee5d02",
   "metadata": {},
   "outputs": [],
   "source": [
    "import pandas as pd\n",
    "covidstatus = pd.read_csv(\"/Users/manyareddy/Desktop/all/csv/covidstatus.csv\", header=None, skiprows=1)\n",
    "for i,row in covidstatus.iterrows():\n",
    "    if (len(row[0]))<5:\n",
    "        sql = \"INSERT IGNORE INTO assignment_3.covidstatus VALUES (%s,%s,%s,%s,%s)\"\n",
    "        cursor.execute(sql, tuple(row))\n",
    "        conn.commit()"
   ]
  },
  {
   "cell_type": "code",
   "execution_count": 17,
   "id": "26baa9d3",
   "metadata": {},
   "outputs": [],
   "source": [
    "import pandas as pd\n",
    "literacy = pd.read_csv(\"/Users/manyareddy/Desktop/all/csv/literacyfinal.csv\", header=None, skiprows=1)\n",
    "for i,row in literacy.iterrows():\n",
    "    if (len(row[0]))<5:\n",
    "        sql = \"INSERT IGNORE INTO assignment_3.literacy VALUES (%s,%s,%s,%s)\"\n",
    "        cursor.execute(sql, tuple(row))\n",
    "        conn.commit()"
   ]
  },
  {
   "cell_type": "code",
   "execution_count": 21,
   "id": "2175f9c1",
   "metadata": {},
   "outputs": [],
   "source": [
    "import pandas as pd\n",
    "internet = pd.read_csv(\"/Users/manyareddy/Desktop/all/csv/internetfinal.csv\", header=None, skiprows=1)\n",
    "for i,row in internet.iterrows():\n",
    "    if (len(row[0]))<5:\n",
    "        sql = \"INSERT IGNORE INTO assignment_3.internet VALUES (%s,%s,%s)\"\n",
    "        cursor.execute(sql, tuple(row))\n",
    "        conn.commit()"
   ]
  },
  {
   "cell_type": "code",
   "execution_count": 23,
   "id": "256848a9",
   "metadata": {},
   "outputs": [],
   "source": [
    "import pandas as pd\n",
    "co = pd.read_csv(\"/Users/manyareddy/Desktop/all/csv/countryfinal.csv\", header=None, skiprows=1)\n",
    "for i,row in co.iterrows():\n",
    "    if (len(row[0]))<5:\n",
    "        sql = \"INSERT IGNORE INTO assignment_3.country VALUES (%s,%s)\"\n",
    "        cursor.execute(sql, tuple(row))\n",
    "        conn.commit()"
   ]
  },
  {
   "cell_type": "code",
   "execution_count": 33,
   "id": "6927b40b",
   "metadata": {},
   "outputs": [],
   "source": [
    "import pandas as pd\n",
    "uni = pd.read_csv(\"/Users/manyareddy/Desktop/all/csv/unisfinal.csv\", header=None, skiprows=1)\n",
    "\n",
    "for i,row in uni.iterrows():\n",
    "    sql = \"INSERT IGNORE INTO assignment_3.universities VALUES (%s,%s,%s,%s)\"\n",
    "    cursor.execute(sql, tuple(row))\n",
    "    conn.commit()"
   ]
  },
  {
   "cell_type": "code",
   "execution_count": 29,
   "id": "bad4cbbe",
   "metadata": {},
   "outputs": [],
   "source": [
    "import pandas as pd\n",
    "medals = pd.read_csv(\"/Users/manyareddy/Desktop/all/csv/medalsfinal.csv\", header=None, skiprows=1)\n",
    "medals\n",
    "for i,row in medals.iterrows():\n",
    "    sql = \"INSERT IGNORE INTO assignment_3.medals VALUES (%s,%s,%s,%s,%s)\"\n",
    "    cursor.execute(sql, tuple(row))\n",
    "    conn.commit()"
   ]
  },
  {
   "cell_type": "code",
   "execution_count": 32,
   "id": "91bcfac7",
   "metadata": {},
   "outputs": [],
   "source": [
    "import pandas as pd\n",
    "happiness = pd.read_csv(\"/Users/manyareddy/Desktop/all/csv/happinessfinal.csv\", header=None, skiprows=1)\n",
    "\n",
    "for i,row in happiness.iterrows():\n",
    "    sql = \"INSERT IGNORE INTO assignment_3.happiness VALUES (%s,%s,%s)\"\n",
    "    cursor.execute(sql, tuple(row))\n",
    "    conn.commit()"
   ]
  }
 ],
 "metadata": {
  "kernelspec": {
   "display_name": "Python 3 (ipykernel)",
   "language": "python",
   "name": "python3"
  },
  "language_info": {
   "codemirror_mode": {
    "name": "ipython",
    "version": 3
   },
   "file_extension": ".py",
   "mimetype": "text/x-python",
   "name": "python",
   "nbconvert_exporter": "python",
   "pygments_lexer": "ipython3",
   "version": "3.9.13"
  }
 },
 "nbformat": 4,
 "nbformat_minor": 5
}
